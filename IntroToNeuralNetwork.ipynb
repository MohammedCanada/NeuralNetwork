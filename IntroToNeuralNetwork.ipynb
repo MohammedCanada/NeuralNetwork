{
  "nbformat": 4,
  "nbformat_minor": 0,
  "metadata": {
    "colab": {
      "provenance": [],
      "authorship_tag": "ABX9TyMp/GmphVZiltnJvUJ/p1Ko",
      "include_colab_link": true
    },
    "kernelspec": {
      "name": "python3",
      "display_name": "Python 3"
    },
    "language_info": {
      "name": "python"
    }
  },
  "cells": [
    {
      "cell_type": "markdown",
      "metadata": {
        "id": "view-in-github",
        "colab_type": "text"
      },
      "source": [
        "<a href=\"https://colab.research.google.com/github/MohammedCanada/NeuralNetwork/blob/main/IntroToNeuralNetwork.ipynb\" target=\"_parent\"><img src=\"https://colab.research.google.com/assets/colab-badge.svg\" alt=\"Open In Colab\"/></a>"
      ]
    },
    {
      "cell_type": "code",
      "source": [
        "import torch\n",
        "import torch.nn as nn\n",
        "import torch.nn.functional as F\n",
        "\n"
      ],
      "metadata": {
        "id": "KulcRsOQpo2p"
      },
      "execution_count": 1,
      "outputs": []
    },
    {
      "cell_type": "code",
      "source": [
        "# Create a Model Class that inherits nn.Module\n",
        "class Model(nn.Module):\n",
        "  # Input Layer (4 features of the flower) -->\n",
        "  # Hidden Layer1\n",
        "  # Hidden Layer2\n",
        "  # Output Layer"
      ],
      "metadata": {
        "id": "GMZZeDy-2kmC"
      },
      "execution_count": null,
      "outputs": []
    }
  ]
}